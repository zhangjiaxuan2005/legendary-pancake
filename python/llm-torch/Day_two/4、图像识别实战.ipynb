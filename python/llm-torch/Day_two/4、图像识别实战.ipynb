{
 "cells": [
  {
   "metadata": {},
   "cell_type": "markdown",
   "source": "## 图像识别",
   "id": "8359bdf256048d98"
  },
  {
   "metadata": {},
   "cell_type": "code",
   "source": [
    "from torchvision import transforms, datasets\n",
    "from torch.utils.data import DataLoader\n",
    "\n",
    "train_data = datasets.MNIST(root='../data/', train=True, transform=transforms.ToTensor(), download=True)\n",
    "test_data = datasets.MNIST(root='../data/', train=False, transform=transforms.ToTensor(), download=True)\n",
    "\n",
    "train_loader = DataLoader(dataset=train_data, batch_size=16, shuffle=True)\n",
    "test_loader = DataLoader(dataset=test_data, batch_size=16, shuffle=True)\n"
   ],
   "id": "3d1c7c31a2840da4",
   "outputs": [],
   "execution_count": null
  },
  {
   "metadata": {},
   "cell_type": "code",
   "source": [
    "import torch\n",
    "from torch import nn\n",
    "\n",
    "\n",
    "class MnistModel(nn.Module):\n",
    "    def __init__(self):\n",
    "        super().__init__()\n",
    "        self.fc1 = nn.Linear(28 * 28, 128)  # [16,28*28]*[28*28,128]=[16,128]\n",
    "        self.fc2 = nn.Linear(128, 256)  # [16,128]*[128,256]=[16,256]\n",
    "        self.fc3 = nn.Linear(256, 128)  # [16,256]*[256,128]=[16,128]\n",
    "        self.fc4 = nn.Linear(128, 1) # [16,128]*[128,128]=[16,1]\n",
    "\n",
    "    def forward(self, x):\n",
    "        x = torch.relu(self.fc1(x))\n",
    "        x = torch.relu(self.fc2(x))\n",
    "        x = torch.relu(self.fc3(x))\n",
    "        x = self.fc4(x)\n",
    "        return x\n",
    "\n",
    "\n",
    "model = MnistModel()\n",
    "optimizer = torch.optim.SGD(model.parameters(), lr=0.1)\n",
    "criterion = nn.MSELoss()  # 均方误差损失函数\n",
    "\n",
    "step = 10\n",
    "\n",
    "for _ in range(step):\n",
    "    for i, (images, labels) in enumerate(train_loader):\n",
    "\n",
    "        labels = labels.float()\n",
    "\n",
    "        output = model(images.view(16, 28 * 28))\n",
    "        loss = criterion(output, labels.view(16, 1))\n",
    "\n",
    "        optimizer.zero_grad()\n",
    "        loss.backward()\n",
    "        optimizer.step()\n",
    "\n",
    "        if i % 1000 == 0:\n",
    "            print(f\"step:{_}/{step}, data{i}/{len(train_data)},loss:{loss.item()}\")\n"
   ],
   "id": "d2abb7f28c504c5b",
   "outputs": [],
   "execution_count": null
  },
  {
   "metadata": {},
   "cell_type": "markdown",
   "source": "### 优化后",
   "id": "e190d0504100a820"
  },
  {
   "metadata": {},
   "cell_type": "code",
   "source": [
    "import torch\n",
    "from torch import nn\n",
    "\n",
    "\n",
    "class MnistModel(nn.Module):\n",
    "    def __init__(self):\n",
    "        super().__init__()\n",
    "        self.fc1 = nn.Linear(28 * 28, 128)\n",
    "        self.fc2 = nn.Linear(128, 256)\n",
    "        self.fc3 = nn.Linear(256, 128)\n",
    "        self.fc4 = nn.Linear(128, 10)\n",
    "\n",
    "    def forward(self, x):\n",
    "        x = torch.relu(self.fc1(x))\n",
    "        x = torch.relu(self.fc2(x))\n",
    "        x = torch.relu(self.fc3(x))\n",
    "        x = self.fc4(x)\n",
    "        return x\n",
    "\n",
    "\n",
    "model = MnistModel()\n",
    "optimizer = torch.optim.SGD(model.parameters(), lr=0.1)\n",
    "criterion = nn.CrossEntropyLoss()  # 交叉熵损失函数\n",
    "\n",
    "step = 5\n",
    "\n",
    "for _ in range(step):\n",
    "    for i, (images, labels) in enumerate(train_loader):\n",
    "        output = model(images.view(16, 28 * 28))\n",
    "        loss = criterion(output, labels)\n",
    "\n",
    "        optimizer.zero_grad()\n",
    "        loss.backward()\n",
    "        optimizer.step()\n",
    "\n",
    "        if i % 1000 == 0:\n",
    "            print(f\"step:{_}/{step}, data{i}/{len(train_loader)},loss:{loss.item()}\")\n"
   ],
   "id": "9063e00395e80ec5",
   "outputs": [],
   "execution_count": null
  },
  {
   "metadata": {},
   "cell_type": "code",
   "source": [
    "correct = 0\n",
    "total = 0\n",
    "with torch.no_grad():\n",
    "    for images, labels in test_loader:\n",
    "        outputs = model(images.view(16, 28 * 28))\n",
    "        _, predicted = torch.max(outputs.data, 1)\n",
    "        total += labels.size(0)\n",
    "        match = (predicted == labels)\n",
    "        correct += match.sum().item()\n",
    "\n",
    "print(f'测试的正确率为： {100 * correct / total}%')"
   ],
   "id": "f0a67cba2c809949",
   "outputs": [],
   "execution_count": null
  }
 ],
 "metadata": {
  "kernelspec": {
   "display_name": "Python 3",
   "language": "python",
   "name": "python3"
  },
  "language_info": {
   "codemirror_mode": {
    "name": "ipython",
    "version": 2
   },
   "file_extension": ".py",
   "mimetype": "text/x-python",
   "name": "python",
   "nbconvert_exporter": "python",
   "pygments_lexer": "ipython2",
   "version": "2.7.6"
  }
 },
 "nbformat": 4,
 "nbformat_minor": 5
}
